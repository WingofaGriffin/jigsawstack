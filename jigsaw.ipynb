{
 "cells": [
  {
   "cell_type": "markdown",
   "metadata": {},
   "source": [
    "First, let's ensure we have the proper dependencies installed with pip by running the following code."
   ]
  },
  {
   "cell_type": "code",
   "execution_count": null,
   "metadata": {},
   "outputs": [],
   "source": [
    "pip install jigsawstack python-dotenv"
   ]
  },
  {
   "cell_type": "markdown",
   "metadata": {},
   "source": [
    "Next, grab your API key and set it in `.env`. You can create a new API key at https://jigsawstack.com/dashboard\n",
    "\n",
    "You can do this manually or use the following Python script to do it for you."
   ]
  },
  {
   "cell_type": "code",
   "execution_count": 5,
   "metadata": {},
   "outputs": [],
   "source": [
    "file_path = \".env\"\n",
    "api_key = input(\"Enter your API key here.\")\n",
    "set_api_line = f\"JIGSAWSTACK_API_KEY='{api_key}'\\n\"\n",
    " \n",
    "# Open the file in write mode\n",
    "with open(file_path, 'w') as file:\n",
    "    # Write content to the file\n",
    "    file.write(set_api_line)"
   ]
  },
  {
   "cell_type": "markdown",
   "metadata": {},
   "source": [
    "We can now call the vOCR API to analyze some images and create some text identifiers to help us categorize these images."
   ]
  },
  {
   "cell_type": "code",
   "execution_count": null,
   "metadata": {},
   "outputs": [],
   "source": [
    "import json\n",
    "from jigsawstack import JigsawStack\n",
    "from dotenv import load_dotenv\n",
    "\n",
    "load_dotenv()\n",
    "\n",
    "jigsawstack= JigsawStack() # API key will be read from environment thanks to dotenv.\n",
    "\n",
    "# The URL of the image to analyze\n",
    "url = \"https://images.unsplash.com/photo-1719129271869-7ea84f6335c0?w=900&auto=format&fit=crop&q=60&ixlib=rb-4.0.3&ixid=M3wxMjA3fDB8MHxleHBsb3JlLWZlZWR8NHx8fGVufDB8fHx8fA%3D%3D\"\n",
    "\n",
    "result = jigsawstack.vision.vocr({\"url\": url, \"prompt\" : \"Describe the image in detail\"});\n",
    "\n",
    "# Print the JSON result prettier\n",
    "print(json.dumps(result, indent=4))"
   ]
  },
  {
   "cell_type": "markdown",
   "metadata": {},
   "source": [
    "We can store this data inside of a dictionary, using the describing words as the key, and appending the URL of the image as a value."
   ]
  },
  {
   "cell_type": "code",
   "execution_count": null,
   "metadata": {},
   "outputs": [],
   "source": [
    "tag_dict = {}\n",
    "\n",
    "def populate_dict(response, url):\n",
    "    for tag in response[\"tags\"]:\n",
    "        # If tag exists, append the url to the array\n",
    "        if tag in tag_dict:\n",
    "            # Ensure no duplicates are added\n",
    "            if url not in tag_dict[tag]:\n",
    "                tag_dict[tag].append(url)\n",
    "        # Otherwise, create a new entry\n",
    "        else:\n",
    "            tag_dict[tag] = [url]\n",
    "\n",
    "populate_dict(result, url)\n",
    "print(json.dumps(tag_dict, indent=4))\n"
   ]
  },
  {
   "cell_type": "markdown",
   "metadata": {},
   "source": [
    "Now we'll turn this process into an easily callable function and repeat with a few more images to populate our database."
   ]
  },
  {
   "cell_type": "code",
   "execution_count": null,
   "metadata": {},
   "outputs": [],
   "source": [
    "# Make a helper function to easily combine these actions together\n",
    "def analyze_image(url):\n",
    "    result = jigsawstack.vision.vocr({\"url\": url, \"prompt\" : \"Describe the image in detail\"});\n",
    "    populate_dict(result, url)\n",
    "\n",
    "analyze_image(\"https://images.unsplash.com/photo-1719240286501-dfd3f531b919?w=900&auto=format&fit=crop&q=60&ixlib=rb-4.0.3&ixid=M3wxMjA3fDB8MHxleHBsb3JlLWZlZWR8OHx8fGVufDB8fHx8fA%3D%3D\")\n",
    "analyze_image(\"https://images.unsplash.com/photo-1719307893825-f652cc5316e4?w=900&auto=format&fit=crop&q=60&ixlib=rb-4.0.3&ixid=M3wxMjA3fDB8MHxleHBsb3JlLWZlZWR8MTJ8fHxlbnwwfHx8fHw%3D\")\n",
    "analyze_image(\"https://images.unsplash.com/photo-1719115131591-eddecb64ca8b?w=900&auto=format&fit=crop&q=60&ixlib=rb-4.0.3&ixid=M3wxMjA3fDB8MHxleHBsb3JlLWZlZWR8MzF8fHxlbnwwfHx8fHw%3D\")\n",
    "analyze_image(\"https://images.unsplash.com/photo-1718965107564-daa12e777876?q=80&w=3087&auto=format&fit=crop&ixlib=rb-4.0.3&ixid=M3wxMjA3fDB8MHxwaG90by1wYWdlfHx8fGVufDB8fHx8fA%3D%3D\")\n",
    "analyze_image(\"https://images.unsplash.com/photo-1719115067961-439b3e5fcc78?q=80&w=2953&auto=format&fit=crop&ixlib=rb-4.0.3&ixid=M3wxMjA3fDB8MHxwaG90by1wYWdlfHx8fGVufDB8fHx8fA%3D%3D\")\n",
    "\n",
    "print(json.dumps(tag_dict, indent=4))"
   ]
  },
  {
   "cell_type": "markdown",
   "metadata": {},
   "source": [
    "Now, we can use this data in a few ways. One cool way is to input a new image, and return the top 5 images we have stored in our database based on matching key words."
   ]
  },
  {
   "cell_type": "code",
   "execution_count": null,
   "metadata": {},
   "outputs": [],
   "source": [
    "url = \"https://images.unsplash.com/photo-1718963927757-6ebadd0600d6?w=900&auto=format&fit=crop&q=60&ixlib=rb-4.0.3&ixid=M3wxMjA3fDB8MHxleHBsb3JlLWZlZWR8NjF8fHxlbnwwfHx8fHw%3D\"\n",
    "\n",
    "def find_matches(url):\n",
    "    base_image = jigsawstack.vision.vocr({\"url\": url, \"prompt\" : \"Describe the image in detail\"});\n",
    "    matching_dict = {}\n",
    "\n",
    "    # Iterate over each tag\n",
    "    for tag in base_image[\"tags\"]:\n",
    "        # If the tag exists, find the URLs\n",
    "        if tag in tag_dict:\n",
    "            for url in tag_dict[tag]:\n",
    "                # We want to add the URLs to the list and keep track of the number of tags in common they have\n",
    "                if url in matching_dict:\n",
    "                    matching_dict[url] += 1\n",
    "                else:\n",
    "                    matching_dict[url] = 1\n",
    "    \n",
    "    # Use sorting lambda to print them in order of most to least matches\n",
    "    most_matches = dict(sorted(matching_dict.items(), key=lambda item: item[1], reverse=True))\n",
    "    print(json.dumps(most_matches, indent=4))\n",
    "\n",
    "find_matches(url)"
   ]
  },
  {
   "cell_type": "markdown",
   "metadata": {},
   "source": [
    "And there you have it! A sorted list of the images based on matching tags. This is only the beginning, basic sample"
   ]
  }
 ],
 "metadata": {
  "kernelspec": {
   "display_name": "Python 3",
   "language": "python",
   "name": "python3"
  },
  "language_info": {
   "codemirror_mode": {
    "name": "ipython",
    "version": 3
   },
   "file_extension": ".py",
   "mimetype": "text/x-python",
   "name": "python",
   "nbconvert_exporter": "python",
   "pygments_lexer": "ipython3",
   "version": "3.12.5"
  }
 },
 "nbformat": 4,
 "nbformat_minor": 2
}
